{
 "cells": [
  {
   "cell_type": "code",
   "execution_count": null,
   "id": "Hbol",
   "metadata": {},
   "outputs": [],
   "source": [
    "import marimo as mo"
   ]
  },
  {
   "cell_type": "markdown",
   "id": "MJUe",
   "metadata": {},
   "source": [
    "# Exploration des datasets de scikit-learn"
   ]
  },
  {
   "cell_type": "code",
   "execution_count": null,
   "id": "vblA",
   "metadata": {},
   "outputs": [],
   "source": [
    "from sklearn.datasets import fetch_20newsgroups"
   ]
  },
  {
   "cell_type": "code",
   "execution_count": null,
   "id": "bkHC",
   "metadata": {},
   "outputs": [],
   "source": [
    "ds = fetch_20newsgroups()"
   ]
  },
  {
   "cell_type": "code",
   "execution_count": null,
   "id": "lEQa",
   "metadata": {},
   "outputs": [],
   "source": [
    "type(ds)"
   ]
  },
  {
   "cell_type": "code",
   "execution_count": null,
   "id": "PKri",
   "metadata": {},
   "outputs": [],
   "source": [
    "dir(ds)"
   ]
  },
  {
   "cell_type": "code",
   "execution_count": null,
   "id": "Xref",
   "metadata": {},
   "outputs": [],
   "source": [
    "type(ds.data)"
   ]
  },
  {
   "cell_type": "code",
   "execution_count": null,
   "id": "SFPL",
   "metadata": {},
   "outputs": [],
   "source": [
    "type(ds.target)"
   ]
  },
  {
   "cell_type": "code",
   "execution_count": null,
   "id": "BYtC",
   "metadata": {},
   "outputs": [],
   "source": [
    "ds.data[0]"
   ]
  },
  {
   "cell_type": "code",
   "execution_count": null,
   "id": "RGSE",
   "metadata": {},
   "outputs": [],
   "source": [
    "len(ds.data)"
   ]
  },
  {
   "cell_type": "code",
   "execution_count": null,
   "id": "Kclp",
   "metadata": {},
   "outputs": [],
   "source": [
    "len(ds.target)"
   ]
  },
  {
   "cell_type": "code",
   "execution_count": null,
   "id": "emfo",
   "metadata": {},
   "outputs": [],
   "source": [
    "ds.target_names"
   ]
  },
  {
   "cell_type": "markdown",
   "id": "Hstk",
   "metadata": {
    "marimo": {
     "config": {
      "hide_code": true
     }
    }
   },
   "source": [
    "Le dataset précédent a comme donnée\n",
    "\n",
    "- en entrée le contenu de fichiers\n",
    "- en sortie une catégorie correspondant à la thématique du sous forum où a été posté le texte\n",
    "\n",
    "On va commencer par un dataset de classification moins ambitieux."
   ]
  },
  {
   "cell_type": "code",
   "execution_count": null,
   "id": "nWHF",
   "metadata": {},
   "outputs": [],
   "source": [
    "from sklearn.datasets import load_iris"
   ]
  },
  {
   "cell_type": "code",
   "execution_count": null,
   "id": "iLit",
   "metadata": {},
   "outputs": [],
   "source": [
    "iris = load_iris()\n",
    "iris"
   ]
  },
  {
   "cell_type": "code",
   "execution_count": null,
   "id": "ZHCJ",
   "metadata": {},
   "outputs": [],
   "source": [
    "print(iris.DESCR)"
   ]
  },
  {
   "cell_type": "code",
   "execution_count": null,
   "id": "ROlb",
   "metadata": {},
   "outputs": [],
   "source": [
    "X = iris.data\n",
    "y = iris.target"
   ]
  },
  {
   "cell_type": "markdown",
   "id": "qnkX",
   "metadata": {
    "marimo": {
     "config": {
      "hide_code": true
     }
    }
   },
   "source": [
    "# Classification\n",
    "\n",
    "**EXERCICE**\n",
    "\n",
    "1. Séparer le dataset entre données d'entrainement et données de test\n",
    "2. Faite tourner le modèle de régression logistique\n",
    "1. Evaluer le résultat du modèle"
   ]
  },
  {
   "cell_type": "code",
   "execution_count": null,
   "id": "TqIu",
   "metadata": {},
   "outputs": [],
   "source": [
    "from sklearn.linear_model import LogisticRegression"
   ]
  },
  {
   "cell_type": "code",
   "execution_count": null,
   "id": "Vxnm",
   "metadata": {},
   "outputs": [],
   "source": [
    "from sklearn.model_selection import train_test_split"
   ]
  },
  {
   "cell_type": "code",
   "execution_count": null,
   "id": "DnEU",
   "metadata": {},
   "outputs": [],
   "source": [
    "X_tr, X_te, y_tr, y_te = train_test_split(X, y)"
   ]
  },
  {
   "cell_type": "code",
   "execution_count": null,
   "id": "ulZA",
   "metadata": {},
   "outputs": [],
   "source": [
    "lr = LogisticRegression()"
   ]
  },
  {
   "cell_type": "code",
   "execution_count": null,
   "id": "ecfG",
   "metadata": {},
   "outputs": [],
   "source": [
    "lr.fit(X_tr, y_tr)"
   ]
  },
  {
   "cell_type": "code",
   "execution_count": null,
   "id": "Pvdt",
   "metadata": {},
   "outputs": [],
   "source": [
    "from sklearn.metrics import confusion_matrix"
   ]
  },
  {
   "cell_type": "code",
   "execution_count": null,
   "id": "ZBYS",
   "metadata": {},
   "outputs": [],
   "source": [
    "confusion_matrix(y_tr, lr.predict(X_tr))"
   ]
  },
  {
   "cell_type": "code",
   "execution_count": null,
   "id": "aLJB",
   "metadata": {},
   "outputs": [],
   "source": [
    "confusion_matrix(y_te, lr.predict(X_te))"
   ]
  },
  {
   "cell_type": "markdown",
   "id": "nHfw",
   "metadata": {},
   "source": [
    "**REMARQUE**\n",
    "Les scores servent à comparer des modèles pas à évaluer un modèle dans le vide.\n",
    "\n",
    "On va comparer au dummy classifier pour évaluer l'apport du modèle."
   ]
  },
  {
   "cell_type": "code",
   "execution_count": null,
   "id": "xXTn",
   "metadata": {},
   "outputs": [],
   "source": [
    "from sklearn.dummy import DummyClassifier"
   ]
  },
  {
   "cell_type": "code",
   "execution_count": null,
   "id": "AjVT",
   "metadata": {},
   "outputs": [],
   "source": [
    "dc = DummyClassifier()"
   ]
  },
  {
   "cell_type": "code",
   "execution_count": null,
   "id": "pHFh",
   "metadata": {},
   "outputs": [],
   "source": [
    "dc.fit(X_tr, y_tr)"
   ]
  },
  {
   "cell_type": "code",
   "execution_count": null,
   "id": "NCOB",
   "metadata": {},
   "outputs": [],
   "source": [
    "confusion_matrix(y_tr, dc.predict(X_tr))"
   ]
  },
  {
   "cell_type": "code",
   "execution_count": null,
   "id": "aqbW",
   "metadata": {},
   "outputs": [],
   "source": [
    "confusion_matrix(y_te, dc.predict(X_te))"
   ]
  },
  {
   "cell_type": "code",
   "execution_count": null,
   "id": "TRpd",
   "metadata": {},
   "outputs": [],
   "source": [
    "from sklearn.metrics import classification_report"
   ]
  },
  {
   "cell_type": "code",
   "execution_count": null,
   "id": "TXez",
   "metadata": {},
   "outputs": [],
   "source": [
    "print(classification_report(y_true = y, y_pred = lr.predict(X)))"
   ]
  },
  {
   "cell_type": "code",
   "execution_count": null,
   "id": "dNNg",
   "metadata": {},
   "outputs": [],
   "source": [
    "print(classification_report(y_true = y, y_pred = dc.predict(X)))"
   ]
  },
  {
   "cell_type": "markdown",
   "id": "yCnT",
   "metadata": {},
   "source": [
    "**CONCLUSION** On voit que la tâche n'était pas complètement évidente vu les scores du DummmyClassifier. La régression logistique fait donc un travail très raisonnable."
   ]
  },
  {
   "cell_type": "markdown",
   "id": "wlCL",
   "metadata": {},
   "source": [
    "# Nouveau dataset"
   ]
  },
  {
   "cell_type": "code",
   "execution_count": null,
   "id": "kqZH",
   "metadata": {},
   "outputs": [],
   "source": [
    "from sklearn.datasets import load_digits"
   ]
  },
  {
   "cell_type": "code",
   "execution_count": null,
   "id": "wAgl",
   "metadata": {},
   "outputs": [],
   "source": [
    "digits = load_digits()"
   ]
  },
  {
   "cell_type": "code",
   "execution_count": null,
   "id": "rEll",
   "metadata": {},
   "outputs": [],
   "source": [
    "print(digits.DESCR)"
   ]
  },
  {
   "cell_type": "markdown",
   "id": "dGlV",
   "metadata": {},
   "source": [
    "**EXERCICE** Visualiser les images correspondantes aux 10 premières entrées du dataset"
   ]
  },
  {
   "cell_type": "code",
   "execution_count": null,
   "id": "SdmI",
   "metadata": {},
   "outputs": [],
   "source": [
    "Xd, yd = digits.data, digits.target"
   ]
  },
  {
   "cell_type": "code",
   "execution_count": null,
   "id": "lgWD",
   "metadata": {},
   "outputs": [],
   "source": [
    "Xd[0]"
   ]
  },
  {
   "cell_type": "code",
   "execution_count": null,
   "id": "yOPj",
   "metadata": {},
   "outputs": [],
   "source": [
    "import matplotlib.pyplot as plt"
   ]
  },
  {
   "cell_type": "code",
   "execution_count": null,
   "id": "fwwy",
   "metadata": {},
   "outputs": [],
   "source": [
    "plt.spy(Xd[0].reshape(8, 8))"
   ]
  },
  {
   "cell_type": "code",
   "execution_count": null,
   "id": "LJZf",
   "metadata": {},
   "outputs": [],
   "source": [
    "plt.imshow(16 - Xd[0].reshape(8, 8), cmap=\"grey\")"
   ]
  },
  {
   "cell_type": "code",
   "execution_count": null,
   "id": "urSm",
   "metadata": {},
   "outputs": [],
   "source": [
    "yd[0]"
   ]
  },
  {
   "cell_type": "code",
   "execution_count": null,
   "id": "jxvo",
   "metadata": {},
   "outputs": [],
   "source": [
    "plt.imshow(16 - Xd[1].reshape(8, 8), cmap=\"grey\")"
   ]
  },
  {
   "cell_type": "code",
   "execution_count": null,
   "id": "mWxS",
   "metadata": {},
   "outputs": [],
   "source": [
    "yd[1]"
   ]
  },
  {
   "cell_type": "markdown",
   "id": "CcZR",
   "metadata": {},
   "source": [
    "**EXERCICE** Entrainer un modèle de classification sur ce dataset."
   ]
  },
  {
   "cell_type": "code",
   "execution_count": null,
   "id": "YWSi",
   "metadata": {},
   "outputs": [],
   "source": [
    "Xd_tr, Xd_te, yd_tr, yd_te = train_test_split(Xd, yd)"
   ]
  },
  {
   "cell_type": "code",
   "execution_count": null,
   "id": "zlud",
   "metadata": {},
   "outputs": [],
   "source": [
    "dcd = DummyClassifier(strategy=\"uniform\")"
   ]
  },
  {
   "cell_type": "code",
   "execution_count": null,
   "id": "tZnO",
   "metadata": {},
   "outputs": [],
   "source": [
    "dcd.fit(Xd_tr, yd_tr)"
   ]
  },
  {
   "cell_type": "code",
   "execution_count": null,
   "id": "xvXZ",
   "metadata": {},
   "outputs": [],
   "source": [
    "print(classification_report(yd, dcd.predict(Xd)))"
   ]
  },
  {
   "cell_type": "code",
   "execution_count": null,
   "id": "CLip",
   "metadata": {},
   "outputs": [],
   "source": [
    "lrd = LogisticRegression(max_iter=1000)"
   ]
  },
  {
   "cell_type": "code",
   "execution_count": null,
   "id": "YECM",
   "metadata": {},
   "outputs": [],
   "source": [
    "lrd.fit(Xd_tr, yd_tr)"
   ]
  },
  {
   "cell_type": "code",
   "execution_count": null,
   "id": "cEAS",
   "metadata": {},
   "outputs": [],
   "source": [
    "print(classification_report(yd, lrd.predict(Xd)))"
   ]
  },
  {
   "cell_type": "markdown",
   "id": "iXej",
   "metadata": {},
   "source": [
    "**EXERCICE** identifier et visualiser les images mal classifiées."
   ]
  },
  {
   "cell_type": "code",
   "execution_count": null,
   "id": "EJmg",
   "metadata": {},
   "outputs": [],
   "source": [
    "from sklearn.metrics import f1_score"
   ]
  },
  {
   "cell_type": "code",
   "execution_count": null,
   "id": "UmEG",
   "metadata": {},
   "outputs": [],
   "source": [
    "f1_score(yd_tr, lrd.predict(Xd_tr), average=None)"
   ]
  },
  {
   "cell_type": "code",
   "execution_count": null,
   "id": "vEBW",
   "metadata": {},
   "outputs": [],
   "source": [
    "f1_score(yd_te, lrd.predict(Xd_te), average=None)"
   ]
  },
  {
   "cell_type": "code",
   "execution_count": null,
   "id": "kLmu",
   "metadata": {},
   "outputs": [],
   "source": [
    "masque = (yd_te != lrd.predict(Xd_te))"
   ]
  },
  {
   "cell_type": "code",
   "execution_count": null,
   "id": "IpqN",
   "metadata": {},
   "outputs": [],
   "source": [
    "masque"
   ]
  },
  {
   "cell_type": "code",
   "execution_count": null,
   "id": "dxZZ",
   "metadata": {},
   "outputs": [],
   "source": [
    "pbx = Xd_te[masque]\n",
    "nombrepb = yd_te[masque]\n",
    "predpb = lrd.predict(Xd_te)[masque]"
   ]
  },
  {
   "cell_type": "code",
   "execution_count": null,
   "id": "dlnW",
   "metadata": {},
   "outputs": [],
   "source": [
    "def visualisation(indice):\n",
    "    _, rep = plt.subplots()\n",
    "    rep.imshow(16 - pbx[indice].reshape(8, 8), cmap=\"grey\")\n",
    "    rep.set_title(f\"prédit: {predpb[indice]}, réalité {nombrepb[indice]}\")\n",
    "    return rep"
   ]
  },
  {
   "cell_type": "code",
   "execution_count": null,
   "id": "TTti",
   "metadata": {},
   "outputs": [],
   "source": [
    "visualisation(1)"
   ]
  },
  {
   "cell_type": "code",
   "execution_count": null,
   "id": "RKFZ",
   "metadata": {},
   "outputs": [],
   "source": [
    "indice = mo.ui.slider(start=0, stop=len(nombrepb) - 1, label=\"indice\", show_value=True)\n",
    "indice"
   ]
  },
  {
   "cell_type": "code",
   "execution_count": null,
   "id": "IaQp",
   "metadata": {},
   "outputs": [],
   "source": [
    "visualisation(indice=indice.value)"
   ]
  },
  {
   "cell_type": "markdown",
   "id": "IWgg",
   "metadata": {},
   "source": [
    "# Nouveau dataset plus ambitieux"
   ]
  },
  {
   "cell_type": "code",
   "execution_count": null,
   "id": "fCoF",
   "metadata": {},
   "outputs": [],
   "source": [
    "from sklearn.datasets import fetch_kddcup99"
   ]
  },
  {
   "cell_type": "code",
   "execution_count": null,
   "id": "LkGn",
   "metadata": {},
   "outputs": [],
   "source": [
    "kdd = fetch_kddcup99()"
   ]
  },
  {
   "cell_type": "code",
   "execution_count": null,
   "id": "zVRe",
   "metadata": {},
   "outputs": [],
   "source": [
    "print(kdd.DESCR)"
   ]
  },
  {
   "cell_type": "markdown",
   "id": "woaO",
   "metadata": {},
   "source": [
    "**EXERCICE** Répéter la démarche précédente."
   ]
  },
  {
   "cell_type": "code",
   "execution_count": null,
   "id": "HnMC",
   "metadata": {},
   "outputs": [],
   "source": [
    "X1, y1 = kdd.data, kdd.target"
   ]
  },
  {
   "cell_type": "code",
   "execution_count": null,
   "id": "wadT",
   "metadata": {},
   "outputs": [],
   "source": [
    "type(X1)"
   ]
  },
  {
   "cell_type": "code",
   "execution_count": null,
   "id": "VCRE",
   "metadata": {},
   "outputs": [],
   "source": [
    "X1.shape"
   ]
  },
  {
   "cell_type": "code",
   "execution_count": null,
   "id": "hgqU",
   "metadata": {},
   "outputs": [],
   "source": [
    "type(y1)"
   ]
  },
  {
   "cell_type": "code",
   "execution_count": null,
   "id": "PSUk",
   "metadata": {},
   "outputs": [],
   "source": [
    "y1.shape"
   ]
  },
  {
   "cell_type": "code",
   "execution_count": null,
   "id": "mfOT",
   "metadata": {},
   "outputs": [],
   "source": [
    "y1[0]"
   ]
  },
  {
   "cell_type": "code",
   "execution_count": null,
   "id": "vGiW",
   "metadata": {},
   "outputs": [],
   "source": [
    "X1[0]"
   ]
  },
  {
   "cell_type": "markdown",
   "id": "SYQT",
   "metadata": {},
   "source": [
    "**PROBLEME** on voit que certains champs ne sont pas numériques, mais des chaines de caractéres encodées en bytes."
   ]
  },
  {
   "cell_type": "code",
   "execution_count": null,
   "id": "bMrW",
   "metadata": {},
   "outputs": [],
   "source": [
    "import numpy as np"
   ]
  },
  {
   "cell_type": "code",
   "execution_count": null,
   "id": "PSQn",
   "metadata": {},
   "outputs": [],
   "source": [
    "np.unique(y1, return_counts=True)"
   ]
  },
  {
   "cell_type": "code",
   "execution_count": null,
   "id": "OfTS",
   "metadata": {},
   "outputs": [],
   "source": [
    "from sklearn.preprocessing import OrdinalEncoder"
   ]
  },
  {
   "cell_type": "code",
   "execution_count": null,
   "id": "lQxp",
   "metadata": {},
   "outputs": [],
   "source": [
    "oe = OrdinalEncoder()"
   ]
  },
  {
   "cell_type": "code",
   "execution_count": null,
   "id": "Plbk",
   "metadata": {},
   "outputs": [],
   "source": [
    "y2 = oe.fit_transform(y1.reshape(-1, 1))"
   ]
  },
  {
   "cell_type": "code",
   "execution_count": null,
   "id": "rSYo",
   "metadata": {},
   "outputs": [],
   "source": [
    "np.unique(y2, return_counts=True)"
   ]
  },
  {
   "cell_type": "code",
   "execution_count": null,
   "id": "HuZB",
   "metadata": {},
   "outputs": [],
   "source": [
    "oex = OrdinalEncoder()\n",
    "X2 = oex.fit_transform(X1)"
   ]
  },
  {
   "cell_type": "code",
   "execution_count": null,
   "id": "WfYj",
   "metadata": {},
   "outputs": [],
   "source": [
    "X2.dtype"
   ]
  },
  {
   "cell_type": "code",
   "execution_count": null,
   "id": "Ynfw",
   "metadata": {},
   "outputs": [],
   "source": []
  }
 ],
 "metadata": {},
 "nbformat": 4,
 "nbformat_minor": 5
}

