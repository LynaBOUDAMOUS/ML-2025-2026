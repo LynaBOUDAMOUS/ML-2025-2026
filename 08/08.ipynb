{
 "cells": [
  {
   "cell_type": "code",
   "execution_count": null,
   "id": "Hbol",
   "metadata": {},
   "outputs": [],
   "source": [
    "import marimo as mo"
   ]
  },
  {
   "cell_type": "code",
   "execution_count": null,
   "id": "MJUe",
   "metadata": {},
   "outputs": [],
   "source": [
    "from sklearn.datasets import load_diabetes"
   ]
  },
  {
   "cell_type": "code",
   "execution_count": null,
   "id": "vblA",
   "metadata": {},
   "outputs": [],
   "source": [
    "diabete = load_diabetes()\n",
    "X = diabete.data\n",
    "y = diabete.target"
   ]
  },
  {
   "cell_type": "code",
   "execution_count": null,
   "id": "bkHC",
   "metadata": {},
   "outputs": [],
   "source": [
    "from sklearn.model_selection import train_test_split, cross_val_score, GridSearchCV, RandomizedSearchCV"
   ]
  },
  {
   "cell_type": "code",
   "execution_count": null,
   "id": "lEQa",
   "metadata": {},
   "outputs": [],
   "source": [
    "Xtr, Xte, ytr, yte = train_test_split(X, y)"
   ]
  },
  {
   "cell_type": "code",
   "execution_count": null,
   "id": "PKri",
   "metadata": {},
   "outputs": [],
   "source": [
    "from sklearn.linear_model import LinearRegression, Lasso \n",
    "from sklearn.neural_network import MLPRegressor"
   ]
  },
  {
   "cell_type": "code",
   "execution_count": null,
   "id": "Xref",
   "metadata": {},
   "outputs": [],
   "source": [
    "lr = LinearRegression()\n",
    "lrscore = cross_val_score(lr, Xtr, ytr)\n",
    "lrscore"
   ]
  },
  {
   "cell_type": "markdown",
   "id": "SFPL",
   "metadata": {},
   "source": [
    "## Ajustement Lasso"
   ]
  },
  {
   "cell_type": "markdown",
   "id": "BYtC",
   "metadata": {},
   "source": [
    "**EXERCICE** Regarder l'impact de l'ajustement du paramètre $\\alpha$ dans le modèle Lasso sur le score de cross validation."
   ]
  },
  {
   "cell_type": "code",
   "execution_count": null,
   "id": "RGSE",
   "metadata": {},
   "outputs": [],
   "source": [
    "la = Lasso()"
   ]
  },
  {
   "cell_type": "code",
   "execution_count": null,
   "id": "Kclp",
   "metadata": {},
   "outputs": [],
   "source": [
    "gcv = GridSearchCV(\n",
    "    Lasso(), \n",
    "    param_grid={\n",
    "        \"alpha\": [10**p for p in range(-5, 3)]\n",
    "}\n",
    ")"
   ]
  },
  {
   "cell_type": "code",
   "execution_count": null,
   "id": "emfo",
   "metadata": {},
   "outputs": [],
   "source": [
    "gcv.fit(Xtr, ytr)\n",
    "gcv.best_params_, gcv.best_score_"
   ]
  },
  {
   "cell_type": "code",
   "execution_count": null,
   "id": "Hstk",
   "metadata": {},
   "outputs": [],
   "source": [
    "gcv.cv_results_"
   ]
  },
  {
   "cell_type": "markdown",
   "id": "nWHF",
   "metadata": {},
   "source": [
    "**REMARQUE** Le meilleur hyperparamètre pour le Lasso semble être $\\alpha=0.01$"
   ]
  },
  {
   "cell_type": "code",
   "execution_count": null,
   "id": "iLit",
   "metadata": {},
   "outputs": [],
   "source": [
    "cross_val_score(LinearRegression(), Xtr, ytr)"
   ]
  },
  {
   "cell_type": "code",
   "execution_count": null,
   "id": "ZHCJ",
   "metadata": {},
   "outputs": [],
   "source": [
    "cross_val_score(Lasso(alpha=0.01), Xtr, ytr)"
   ]
  },
  {
   "cell_type": "markdown",
   "id": "ROlb",
   "metadata": {},
   "source": [
    "**EXERCICE** Regarder comment fonctionne `RandomizedSearchCV`."
   ]
  },
  {
   "cell_type": "code",
   "execution_count": null,
   "id": "qnkX",
   "metadata": {},
   "outputs": [],
   "source": [
    "import scipy.stats as stats"
   ]
  },
  {
   "cell_type": "code",
   "execution_count": null,
   "id": "TqIu",
   "metadata": {},
   "outputs": [],
   "source": [
    "normale = stats.norm()\n",
    "normale"
   ]
  },
  {
   "cell_type": "code",
   "execution_count": null,
   "id": "Vxnm",
   "metadata": {},
   "outputs": [],
   "source": [
    "for _ in range(10):\n",
    "    print(normale.rvs())"
   ]
  },
  {
   "cell_type": "code",
   "execution_count": null,
   "id": "DnEU",
   "metadata": {},
   "outputs": [],
   "source": [
    "rcv = RandomizedSearchCV(Lasso(), dict(alpha=stats.expon()), n_iter=50)"
   ]
  },
  {
   "cell_type": "code",
   "execution_count": null,
   "id": "ulZA",
   "metadata": {},
   "outputs": [],
   "source": [
    "rcv.fit(Xtr, ytr)\n",
    "rcv.best_params_, rcv.best_score_"
   ]
  },
  {
   "cell_type": "markdown",
   "id": "ecfG",
   "metadata": {},
   "source": [
    "## Ajustement du réseau de neurones"
   ]
  },
  {
   "cell_type": "code",
   "execution_count": null,
   "id": "Pvdt",
   "metadata": {},
   "outputs": [],
   "source": [
    "nng = GridSearchCV(\n",
    "    MLPRegressor(), \n",
    "    param_grid=dict(\n",
    "       hidden_layer_sizes=[\n",
    "           (3,), (9,), (15,)\n",
    "       ],\n",
    "        max_iter=[100000],\n",
    "    )\n",
    ")"
   ]
  },
  {
   "cell_type": "code",
   "execution_count": null,
   "id": "ZBYS",
   "metadata": {},
   "outputs": [],
   "source": [
    "nng.fit(Xtr, ytr)\n",
    "nng.best_params_, nng.best_score_"
   ]
  },
  {
   "cell_type": "code",
   "execution_count": null,
   "id": "aLJB",
   "metadata": {},
   "outputs": [],
   "source": []
  },
  {
   "cell_type": "markdown",
   "id": "nHfw",
   "metadata": {},
   "source": [
    "**EXERCICE** déterminer le nombre de paramètres pour chacun des choix d'hyperparamètres.\n",
    "\n",
    "Correction au tableau: $12 n +1* paramètres pour une couche cachée de $n$ neurones."
   ]
  },
  {
   "cell_type": "markdown",
   "id": "xXTn",
   "metadata": {},
   "source": [
    "## Preprocessing\n",
    "\n",
    "[la documentation de MLP](https://scikit-learn.org/stable/modules/neural_networks_supervised.html#tips-on-practical-use)\n",
    "suggère que la normalisation des données est critique pour les réseaux de neurones.\n",
    "\n",
    "On va assembler un pipeline normalisation suivant du réseau de neurones."
   ]
  },
  {
   "cell_type": "code",
   "execution_count": null,
   "id": "AjVT",
   "metadata": {},
   "outputs": [],
   "source": [
    "from sklearn.preprocessing import MinMaxScaler, StandardScaler"
   ]
  },
  {
   "cell_type": "code",
   "execution_count": null,
   "id": "pHFh",
   "metadata": {},
   "outputs": [],
   "source": [
    "from sklearn.pipeline import Pipeline"
   ]
  },
  {
   "cell_type": "code",
   "execution_count": null,
   "id": "NCOB",
   "metadata": {},
   "outputs": [],
   "source": [
    "assemblage = Pipeline(\n",
    "    steps=[\n",
    "        (\"normalisation\", StandardScaler()),\n",
    "        (\"prediction\", MLPRegressor())\n",
    "    ]\n",
    ")"
   ]
  },
  {
   "cell_type": "code",
   "execution_count": null,
   "id": "aqbW",
   "metadata": {},
   "outputs": [],
   "source": [
    "assemblage.get_params()"
   ]
  },
  {
   "cell_type": "code",
   "execution_count": null,
   "id": "TRpd",
   "metadata": {},
   "outputs": [],
   "source": [
    "gca = GridSearchCV( \n",
    "    assemblage, \n",
    "    param_grid=dict(\n",
    "        prediction__hidden_layer_sizes=[\n",
    "            (5,), (10,), (15,),\n",
    "        ], \n",
    "        prediction__max_iter=[100000],\n",
    "    )\n",
    ")"
   ]
  },
  {
   "cell_type": "code",
   "execution_count": null,
   "id": "TXez",
   "metadata": {},
   "outputs": [],
   "source": [
    "gca.fit(Xtr, ytr)\n",
    "gca.best_params_, gca.best_score_"
   ]
  },
  {
   "cell_type": "code",
   "execution_count": null,
   "id": "dNNg",
   "metadata": {},
   "outputs": [],
   "source": [
    "gcm = GridSearchCV(\n",
    "    Pipeline(\n",
    "        steps=[\n",
    "            (\"normalisation\", MinMaxScaler()),\n",
    "            (\"prediction\", MLPRegressor()),\n",
    "        ],\n",
    "    ),\n",
    "    param_grid=dict(\n",
    "        prediction__hidden_layer_sizes=[\n",
    "            (5,), (10,), (15,),\n",
    "        ], \n",
    "        prediction__max_iter=[100000],\n",
    "    )\n",
    ")"
   ]
  },
  {
   "cell_type": "code",
   "execution_count": null,
   "id": "yCnT",
   "metadata": {},
   "outputs": [],
   "source": [
    "gcm.fit(Xtr, ytr)\n",
    "gcm.best_params_, gca.best_score_"
   ]
  },
  {
   "cell_type": "markdown",
   "id": "wlCL",
   "metadata": {},
   "source": [
    "**EXERCICE** Faite la même chose pour les modèles `KNeighborsRegressor` et `GaussianProcessRegressor`."
   ]
  },
  {
   "cell_type": "code",
   "execution_count": null,
   "id": "kqZH",
   "metadata": {},
   "outputs": [],
   "source": [
    "from sklearn.neighbors import KNeighborsRegressor"
   ]
  },
  {
   "cell_type": "code",
   "execution_count": null,
   "id": "wAgl",
   "metadata": {},
   "outputs": [],
   "source": [
    "gknr = GridSearchCV(\n",
    "    KNeighborsRegressor(),\n",
    "    param_grid=dict(\n",
    "        n_neighbors=range(2, 15),\n",
    "        weights=[\"uniform\", \"distance\"],\n",
    "    )\n",
    ")"
   ]
  },
  {
   "cell_type": "code",
   "execution_count": null,
   "id": "rEll",
   "metadata": {},
   "outputs": [],
   "source": [
    "gknr.fit(Xtr, ytr)\n",
    "gknr.best_params_, gknr.best_score_"
   ]
  },
  {
   "cell_type": "code",
   "execution_count": null,
   "id": "dGlV",
   "metadata": {},
   "outputs": [],
   "source": []
  }
 ],
 "metadata": {},
 "nbformat": 4,
 "nbformat_minor": 5
}

