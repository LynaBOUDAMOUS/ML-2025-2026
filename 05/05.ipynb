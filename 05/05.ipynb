{
 "cells": [
  {
   "cell_type": "code",
   "execution_count": null,
   "id": "Hbol",
   "metadata": {},
   "outputs": [],
   "source": [
    "import marimo as mo"
   ]
  },
  {
   "cell_type": "markdown",
   "id": "MJUe",
   "metadata": {},
   "source": [
    "# Initiation au webscraping\n",
    "\n",
    "Origines des données:\n",
    "\n",
    "1. dataset prêt à l'emploi (csv, xls, parquet) : Kaggle\n",
    "2. données peu structurées (json) : requête sur des api distantes (publiques ou privé)\n",
    "3. données pour humain sur site web"
   ]
  },
  {
   "cell_type": "markdown",
   "id": "vblA",
   "metadata": {},
   "source": [
    "## Requêtes HTTP"
   ]
  },
  {
   "cell_type": "code",
   "execution_count": null,
   "id": "bkHC",
   "metadata": {},
   "outputs": [],
   "source": [
    "url = \"https://fr.wikipedia.org/wiki/STOXX_Europe_50\""
   ]
  },
  {
   "cell_type": "markdown",
   "id": "lEQa",
   "metadata": {},
   "source": [
    "**OBJECTIF** récupérer la composition du STOXX 50 à partir de la page wikipédia."
   ]
  },
  {
   "cell_type": "code",
   "execution_count": null,
   "id": "PKri",
   "metadata": {},
   "outputs": [],
   "source": [
    "from requests import get"
   ]
  },
  {
   "cell_type": "code",
   "execution_count": null,
   "id": "Xref",
   "metadata": {},
   "outputs": [],
   "source": [
    "page = get(url=url)"
   ]
  },
  {
   "cell_type": "code",
   "execution_count": null,
   "id": "SFPL",
   "metadata": {},
   "outputs": [],
   "source": [
    "dir(page)"
   ]
  },
  {
   "cell_type": "code",
   "execution_count": null,
   "id": "BYtC",
   "metadata": {},
   "outputs": [],
   "source": [
    "page.ok"
   ]
  },
  {
   "cell_type": "code",
   "execution_count": null,
   "id": "RGSE",
   "metadata": {},
   "outputs": [],
   "source": [
    "print(page.content.decode(\"utf8\"))"
   ]
  },
  {
   "cell_type": "markdown",
   "id": "Kclp",
   "metadata": {},
   "source": [
    "**EXERCICE** déterminer le *user agent* de votre navigateur et l'insérer dans la requête HTTP effectuée avec `get`."
   ]
  },
  {
   "cell_type": "code",
   "execution_count": null,
   "id": "emfo",
   "metadata": {},
   "outputs": [],
   "source": [
    "user_agent = \"Mozilla/5.0 (X11; Linux x86_64; rv:143.0) Gecko/20100101 Firefox/143.0\""
   ]
  },
  {
   "cell_type": "code",
   "execution_count": null,
   "id": "Hstk",
   "metadata": {},
   "outputs": [],
   "source": [
    "page_v2 = get(url=url, headers={\"User-Agent\": user_agent})"
   ]
  },
  {
   "cell_type": "code",
   "execution_count": null,
   "id": "nWHF",
   "metadata": {},
   "outputs": [],
   "source": [
    "page_v2.ok"
   ]
  },
  {
   "cell_type": "code",
   "execution_count": null,
   "id": "iLit",
   "metadata": {},
   "outputs": [],
   "source": [
    "page_v2.text"
   ]
  },
  {
   "cell_type": "markdown",
   "id": "ZHCJ",
   "metadata": {},
   "source": [
    "## Extraction naïve des donneés"
   ]
  },
  {
   "cell_type": "markdown",
   "id": "ROlb",
   "metadata": {},
   "source": [
    "**EXERCICE** récupérer la partie du code source dans `page_v2.text` qui correspond à la table des entreprises du STOXX 50.\n",
    "\n",
    "**REMARQUE** On rappelle qu'en HTML, une balise ouvrante s'écrit `<type attributs>` et la balise fermante correspondante `</type>`\n",
    "Dans notre cas, lorsqu'on inspecte le code source de la page on voit que la balise qui nous intéresse est `<table>`."
   ]
  },
  {
   "cell_type": "code",
   "execution_count": null,
   "id": "qnkX",
   "metadata": {},
   "outputs": [],
   "source": [
    "indice_debut = page_v2.text.find(\"<table\")"
   ]
  },
  {
   "cell_type": "code",
   "execution_count": null,
   "id": "TqIu",
   "metadata": {},
   "outputs": [],
   "source": [
    "print(page_v2.text[indice_debut: indice_debut+200])"
   ]
  },
  {
   "cell_type": "code",
   "execution_count": null,
   "id": "Vxnm",
   "metadata": {},
   "outputs": [],
   "source": [
    "indice_fin = page_v2.text.find(\"</table>\") + len(\"</table>\")"
   ]
  },
  {
   "cell_type": "code",
   "execution_count": null,
   "id": "DnEU",
   "metadata": {},
   "outputs": [],
   "source": [
    "code_table = page_v2.text[indice_debut:indice_fin]"
   ]
  },
  {
   "cell_type": "markdown",
   "id": "ulZA",
   "metadata": {},
   "source": [
    "En examinant le code source on observe les balises\n",
    "\n",
    "1. `th` : pour *table header*\n",
    "2. `tr` : pour *table row*\n",
    "3. `td` : pour *table delimiter*\n",
    "\n",
    "**EXERCICE** récupérer la liste des codes sources des lignes de la table."
   ]
  },
  {
   "cell_type": "code",
   "execution_count": null,
   "id": "ecfG",
   "metadata": {},
   "outputs": [],
   "source": [
    "liste_lignes = list()\n",
    "debut = code_table.find(\"<tr>\")\n",
    "while debut != -1:\n",
    "    fin = code_table.find(\"</tr>\", debut)\n",
    "    liste_lignes.append(code_table[debut+4:fin])\n",
    "    debut = code_table.find(\"<tr>\", fin)\n",
    "\n",
    "len(liste_lignes)"
   ]
  },
  {
   "cell_type": "code",
   "execution_count": null,
   "id": "Pvdt",
   "metadata": {},
   "outputs": [],
   "source": [
    "print(liste_lignes[0])"
   ]
  },
  {
   "cell_type": "code",
   "execution_count": null,
   "id": "ZBYS",
   "metadata": {},
   "outputs": [],
   "source": [
    "print(liste_lignes[1])"
   ]
  },
  {
   "cell_type": "markdown",
   "id": "aLJB",
   "metadata": {},
   "source": [
    "**EXERCICE** récupérer les éléments de chaque cellule de la table dans une liste de listes de chaine de caractéres."
   ]
  },
  {
   "cell_type": "code",
   "execution_count": null,
   "id": "nHfw",
   "metadata": {},
   "outputs": [],
   "source": [
    "ligne_test = liste_lignes[1]\n",
    "indice1 = ligne_test.find(\"<td>\")+4\n",
    "indice2 = ligne_test.find(\"<td>\", indice1)\n",
    "indice3 = ligne_test.find(\"<td>\", indice2)\n",
    "indice4 = ligne_test.find(\"<td>\", indice3)\n",
    "print(ligne_test[indice1:indice2 - 6])\n",
    "print(ligne_test[indice2+4:indice3 - 14])\n",
    "print(ligne_test[indice3+4:indice4 - 6])\n",
    "print(ligne_test[indice4+4:- 6])"
   ]
  },
  {
   "cell_type": "markdown",
   "id": "xXTn",
   "metadata": {},
   "source": [
    "**REMARQUE** la manipulation des indices va vite devenir fatiguante et peu robuste.\n",
    "    On va utiliser les expressions régulières pour obtenir une extraction plus simple"
   ]
  },
  {
   "cell_type": "markdown",
   "id": "AjVT",
   "metadata": {},
   "source": [
    "## Prise en main des regex"
   ]
  },
  {
   "cell_type": "code",
   "execution_count": null,
   "id": "pHFh",
   "metadata": {},
   "outputs": [],
   "source": [
    "import re"
   ]
  },
  {
   "cell_type": "code",
   "execution_count": null,
   "id": "NCOB",
   "metadata": {},
   "outputs": [],
   "source": [
    "contenu = \"\"\"Lorem ipsum dolor sit amet, consectetur adipiscing elit. Sed non risus. Suspendisse lectus tortor, dignissim sit amet, adipiscing nec, ultricies sed, dolor. Cras elementum ultrices diam. Maecenas ligula massa, varius a, semper congue, euismod non, mi. Proin porttitor, orci nec nonummy molestie, enim est eleifend mi, non fermentum diam nisl sit amet erat. Duis semper. Duis arcu massa, scelerisque vitae, consequat in, pretium a, enim. Pellentesque congue. Ut in risus volutpat libero pharetra tempor. Cras vestibulum bibendum augue. Praesent egestas leo in pede. Praesent blandit odio eu enim. Pellentesque sed dui ut augue blandit sodales. Vestibulum ante ipsum primis in faucibus orci luctus et ultrices posuere cubilia Curae; Aliquam nibh. Mauris ac mauris sed pede pellentesque fermentum. Maecenas adipiscing ante non diam sodales hendrerit.\n",
    "\"\"\""
   ]
  },
  {
   "cell_type": "markdown",
   "id": "aqbW",
   "metadata": {},
   "source": [
    "On aimerait récupérer les phrases. Une phrase correspond au motif\n",
    "\n",
    "1. La première lettre est une majuscule\n",
    "2. On a un nombre inconnu de caractères.\n",
    "3. On finit par un point."
   ]
  },
  {
   "cell_type": "code",
   "execution_count": null,
   "id": "TRpd",
   "metadata": {},
   "outputs": [],
   "source": [
    "phrase = re.compile(\"[A-Z].*\\\\.\")"
   ]
  },
  {
   "cell_type": "markdown",
   "id": "TXez",
   "metadata": {},
   "source": [
    "- `[A-Z]` décrit un caractère entre `A` et `Z` donc une majuscule\n",
    "- `.` décrit un caractère quelconque\n",
    "- `*` indique une répétition du motif qui précède,\n",
    "- `\\\\.` : point explicite"
   ]
  },
  {
   "cell_type": "code",
   "execution_count": null,
   "id": "dNNg",
   "metadata": {},
   "outputs": [],
   "source": [
    "phrase.findall(contenu)"
   ]
  },
  {
   "cell_type": "markdown",
   "id": "yCnT",
   "metadata": {},
   "source": [
    "Attention par défaut les répétitions sont gloutonnes, c'est à dire qu'on cherche le plus grand motif possible qui convient. La version non gloutonne de la répétition est `*?`."
   ]
  },
  {
   "cell_type": "code",
   "execution_count": null,
   "id": "wlCL",
   "metadata": {},
   "outputs": [],
   "source": [
    "phrase_v2 = re.compile(\"[A-Z].*?\\\\.\")"
   ]
  },
  {
   "cell_type": "code",
   "execution_count": null,
   "id": "kqZH",
   "metadata": {},
   "outputs": [],
   "source": [
    "phrase_v2.findall(contenu)"
   ]
  },
  {
   "cell_type": "markdown",
   "id": "wAgl",
   "metadata": {},
   "source": [
    "On peut utiliser des parenthèses à l'intérieur du motif pour indiquer des `groupes de capture` c'est à dire des blocs internes au motif qu'on veut isole.\n",
    "\n",
    "Par exemple si on veut récupérer le premier mot de chaque phrase."
   ]
  },
  {
   "cell_type": "code",
   "execution_count": null,
   "id": "rEll",
   "metadata": {},
   "outputs": [],
   "source": [
    "premier_mot = re.compile(\"([A-Z][a-z]*).*?\\\\.\")\n",
    "premier_mot.findall(contenu)"
   ]
  },
  {
   "cell_type": "markdown",
   "id": "dGlV",
   "metadata": {},
   "source": [
    "**EXERCICE** Reprenez l'extraction des données de la page web, en utilisant des regex plutôt que`find`."
   ]
  },
  {
   "cell_type": "code",
   "execution_count": null,
   "id": "SdmI",
   "metadata": {},
   "outputs": [],
   "source": [
    "table = re.compile(\"<table.*?</table>\")\n",
    "code_table_v2, = table.findall(page_v2.text.replace(\"\\n\", \" \"))\n",
    "code_table_v2"
   ]
  },
  {
   "cell_type": "code",
   "execution_count": null,
   "id": "lgWD",
   "metadata": {},
   "outputs": [],
   "source": [
    "ligne = re.compile(\"<tr>(.*?)</tr>\")\n",
    "header, *lignes_v2 = ligne.findall(code_table_v2)\n",
    "header"
   ]
  },
  {
   "cell_type": "code",
   "execution_count": null,
   "id": "yOPj",
   "metadata": {},
   "outputs": [],
   "source": [
    "colonne = re.compile(\"<td>(.*?)</td>\")\n",
    "table_final = [colonne.findall(ligne_courante) for ligne_courante in lignes_v2]"
   ]
  },
  {
   "cell_type": "code",
   "execution_count": null,
   "id": "fwwy",
   "metadata": {},
   "outputs": [],
   "source": [
    "len(table_final)"
   ]
  },
  {
   "cell_type": "code",
   "execution_count": null,
   "id": "LJZf",
   "metadata": {},
   "outputs": [],
   "source": [
    "table_final[0]"
   ]
  },
  {
   "cell_type": "code",
   "execution_count": null,
   "id": "urSm",
   "metadata": {},
   "outputs": [],
   "source": [
    "header"
   ]
  },
  {
   "cell_type": "code",
   "execution_count": null,
   "id": "jxvo",
   "metadata": {},
   "outputs": [],
   "source": [
    "from dataclasses import dataclass\n",
    "\n",
    "@dataclass\n",
    "class Entree:\n",
    "    Nom: str\n",
    "    Symbole: str \n",
    "    Url: str \n",
    "    Secteur: str \n",
    "    Pays: str "
   ]
  },
  {
   "cell_type": "markdown",
   "id": "mWxS",
   "metadata": {},
   "source": [
    "**EXERCICE** Ajuster le code pour obtenir une liste d'`Entree` comme resultat final."
   ]
  },
  {
   "cell_type": "code",
   "execution_count": null,
   "id": "CcZR",
   "metadata": {},
   "outputs": [],
   "source": [
    "multiples_groupes = re.compile(\"^([0-9]*?),(.*?),(.*)$\")\n",
    "multiples_groupes.findall(\"150,23,1\")"
   ]
  },
  {
   "cell_type": "code",
   "execution_count": null,
   "id": "YWSi",
   "metadata": {},
   "outputs": [],
   "source": [
    "multiples_groupes.findall(\"150,2blabla3,1\")"
   ]
  },
  {
   "cell_type": "code",
   "execution_count": null,
   "id": "zlud",
   "metadata": {},
   "outputs": [],
   "source": [
    "multiples_groupes.findall(\"1bla50,2blabla3,1\")"
   ]
  },
  {
   "cell_type": "code",
   "execution_count": null,
   "id": "tZnO",
   "metadata": {},
   "outputs": [],
   "source": []
  },
  {
   "cell_type": "code",
   "execution_count": null,
   "id": "xvXZ",
   "metadata": {},
   "outputs": [],
   "source": []
  }
 ],
 "metadata": {},
 "nbformat": 4,
 "nbformat_minor": 5
}

