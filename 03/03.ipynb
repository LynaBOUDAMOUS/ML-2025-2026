{
 "cells": [
  {
   "cell_type": "code",
   "execution_count": null,
   "id": "Hbol",
   "metadata": {},
   "outputs": [],
   "source": [
    "import marimo as mo\n",
    "import numpy as np\n",
    "import matplotlib.pyplot as plt"
   ]
  },
  {
   "cell_type": "markdown",
   "id": "MJUe",
   "metadata": {
    "marimo": {
     "config": {
      "hide_code": true
     }
    }
   },
   "source": [
    "# Première partie de  séance\n",
    "\n",
    "Suite à un bogue en salle de TP, pas d'ordinateur utilisable.\n",
    "Première partie théorique.\n",
    "\n",
    "1. Rappels sur les deux premières séances.\n",
    "2. Souligner le rôle arbitraire de l'erreur quadratique moyenne.\n",
    "3. Modélisation par inférence puis décision.\n",
    "1. Inférence en modélisant par un champs de lois normales plutôt que par une fonction.\n",
    "1. Le principe de maximum de vraisemblance ramène alors à l'erreur quadratique moyenne pour l'espérance\n",
    "1. Approche similaire pour un problème de classification"
   ]
  },
  {
   "cell_type": "markdown",
   "id": "vblA",
   "metadata": {},
   "source": [
    "# Deuxième partie de séance\n",
    "\n",
    "Prise en main de scikit-learn:\n",
    "\n",
    "1. Installation avec uv\n",
    "1. Exploration de la documentation pour reproduire le contenu des deux premières séances"
   ]
  },
  {
   "cell_type": "markdown",
   "id": "bkHC",
   "metadata": {},
   "source": [
    "## Génération du dataset"
   ]
  },
  {
   "cell_type": "code",
   "execution_count": null,
   "id": "lEQa",
   "metadata": {},
   "outputs": [],
   "source": [
    "def inconnue(xs):\n",
    "    return np.cos(10. * xs) * np.exp(-xs)"
   ]
  },
  {
   "cell_type": "code",
   "execution_count": null,
   "id": "PKri",
   "metadata": {},
   "outputs": [],
   "source": [
    "xs = np.linspace(0., 2., 20)\n",
    "ys = inconnue(xs) + 0.1 * np.random.randn(20)\n",
    "\n",
    "plt.scatter(xs, ys, label=\"échantillon\", color=\"red\")\n",
    "\n",
    "_x = np.linspace(0, 2., 200)\n",
    "plt.plot(_x, inconnue(_x), label=\"fonction cachée\", color=\"blue\")\n",
    "plt.legend()"
   ]
  },
  {
   "cell_type": "markdown",
   "id": "Xref",
   "metadata": {},
   "source": [
    "## Régression linéaire"
   ]
  },
  {
   "cell_type": "code",
   "execution_count": null,
   "id": "SFPL",
   "metadata": {},
   "outputs": [],
   "source": [
    "from sklearn.linear_model import LinearRegression"
   ]
  },
  {
   "cell_type": "code",
   "execution_count": null,
   "id": "BYtC",
   "metadata": {},
   "outputs": [],
   "source": [
    "X = xs.reshape(20, 1)\n",
    "lr = LinearRegression(fit_intercept=True)\n",
    "lr.fit(X, ys)"
   ]
  },
  {
   "cell_type": "code",
   "execution_count": null,
   "id": "RGSE",
   "metadata": {},
   "outputs": [],
   "source": [
    "plt.scatter(xs, ys, label=\"échantillon\", color=\"red\")\n",
    "\n",
    "_x = np.linspace(0, 2., 200)\n",
    "plt.plot(_x, inconnue(_x), label=\"fonction cachée\", color=\"blue\")\n",
    "plt.plot(_x, lr.predict(_x.reshape(-1, 1)), color=\"cyan\", label=\"prédiction\")\n",
    "plt.legend()"
   ]
  },
  {
   "cell_type": "markdown",
   "id": "Kclp",
   "metadata": {},
   "source": [
    "## Modèle Polynômial"
   ]
  },
  {
   "cell_type": "code",
   "execution_count": null,
   "id": "emfo",
   "metadata": {},
   "outputs": [],
   "source": [
    "from sklearn.preprocessing import PolynomialFeatures"
   ]
  },
  {
   "cell_type": "code",
   "execution_count": null,
   "id": "Hstk",
   "metadata": {},
   "outputs": [],
   "source": [
    "pf = PolynomialFeatures(degree=5)\n",
    "Xp = pf.fit_transform(X)\n",
    "Xp.shape"
   ]
  },
  {
   "cell_type": "code",
   "execution_count": null,
   "id": "nWHF",
   "metadata": {},
   "outputs": [],
   "source": [
    "modele = LinearRegression(fit_intercept=False)\n",
    "modele.fit(Xp, ys)"
   ]
  },
  {
   "cell_type": "code",
   "execution_count": null,
   "id": "iLit",
   "metadata": {},
   "outputs": [],
   "source": [
    "plt.scatter(xs, ys, label=\"échantillon\", color=\"red\")\n",
    "\n",
    "_x = np.linspace(0, 2., 200)\n",
    "plt.plot(_x, inconnue(_x), label=\"fonction cachée\", color=\"blue\")\n",
    "\n",
    "_X = pf.fit_transform(_x.reshape(-1, 1))\n",
    "plt.plot(_x, modele.predict(_X), color=\"cyan\", label=\"prédiction\")\n",
    "plt.legend()"
   ]
  },
  {
   "cell_type": "markdown",
   "id": "ZHCJ",
   "metadata": {},
   "source": [
    "## Exploration interactive avec Marimo\n",
    "\n",
    "On suggère de passer en **app view** pour expérimenter avec la suite et observer l'impact du degré sur la fidélité du modèle."
   ]
  },
  {
   "cell_type": "code",
   "execution_count": null,
   "id": "ROlb",
   "metadata": {},
   "outputs": [],
   "source": [
    "degres = mo.ui.slider(label=\"degré du modèle\", start=1, stop=20, show_value=True)\n",
    "degres"
   ]
  },
  {
   "cell_type": "code",
   "execution_count": null,
   "id": "qnkX",
   "metadata": {},
   "outputs": [],
   "source": [
    "_pf = PolynomialFeatures(degree=degres.value)\n",
    "_Xp = _pf.fit_transform(X)\n",
    "_modele = LinearRegression(fit_intercept=False)\n",
    "_modele.fit(_Xp, ys)\n",
    "\n",
    "plt.scatter(xs, ys, label=\"échantillon\", color=\"red\")\n",
    "_x = np.linspace(0, 2., 200)\n",
    "plt.plot(_x, inconnue(_x), label=\"fonction cachée\", color=\"blue\")\n",
    "_X = _pf.fit_transform(_x.reshape(-1, 1))\n",
    "plt.plot(_x, _modele.predict(_X), color=\"cyan\", label=\"prédiction\")\n",
    "plt.legend()"
   ]
  },
  {
   "cell_type": "code",
   "execution_count": null,
   "id": "TqIu",
   "metadata": {},
   "outputs": [],
   "source": []
  }
 ],
 "metadata": {},
 "nbformat": 4,
 "nbformat_minor": 5
}

